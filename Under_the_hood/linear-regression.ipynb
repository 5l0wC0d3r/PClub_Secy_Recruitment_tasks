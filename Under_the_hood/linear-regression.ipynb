{
 "cells": [
  {
   "cell_type": "markdown",
   "id": "1867af88",
   "metadata": {
    "papermill": {
     "duration": 0.009647,
     "end_time": "2022-08-16T15:41:11.233257",
     "exception": false,
     "start_time": "2022-08-16T15:41:11.223610",
     "status": "completed"
    },
    "tags": []
   },
   "source": [
    "# Logistic Regression"
   ]
  },
  {
   "cell_type": "markdown",
   "id": "1854fa8c",
   "metadata": {
    "papermill": {
     "duration": 0.007164,
     "end_time": "2022-08-16T15:41:11.248115",
     "exception": false,
     "start_time": "2022-08-16T15:41:11.240951",
     "status": "completed"
    },
    "tags": []
   },
   "source": [
    "## Packages ##\n",
    "\n",
    "First, let's run the cell below to import all the packages that you will need during this assignment. \n",
    "- [numpy](https://numpy.org/doc/1.20/) is the fundamental package for scientific computing with Python.\n",
    "- [h5py](http://www.h5py.org) is a common package to interact with a dataset that is stored on an H5 file.\n",
    "- [matplotlib](http://matplotlib.org) is a famous library to plot graphs in Python."
   ]
  },
  {
   "cell_type": "code",
   "execution_count": 1,
   "id": "ff7522b3",
   "metadata": {
    "execution": {
     "iopub.execute_input": "2022-08-16T15:41:11.265011Z",
     "iopub.status.busy": "2022-08-16T15:41:11.264538Z",
     "iopub.status.idle": "2022-08-16T15:41:11.432958Z",
     "shell.execute_reply": "2022-08-16T15:41:11.431713Z"
    },
    "papermill": {
     "duration": 0.180813,
     "end_time": "2022-08-16T15:41:11.436319",
     "exception": false,
     "start_time": "2022-08-16T15:41:11.255506",
     "status": "completed"
    },
    "scrolled": true,
    "tags": []
   },
   "outputs": [],
   "source": [
    "import numpy as np\n",
    "import copy\n",
    "import h5py\n"
   ]
  },
  {
   "cell_type": "code",
   "execution_count": 2,
   "id": "e873eacf",
   "metadata": {
    "execution": {
     "iopub.execute_input": "2022-08-16T15:41:11.453801Z",
     "iopub.status.busy": "2022-08-16T15:41:11.453069Z",
     "iopub.status.idle": "2022-08-16T15:41:11.461268Z",
     "shell.execute_reply": "2022-08-16T15:41:11.460320Z"
    },
    "papermill": {
     "duration": 0.020053,
     "end_time": "2022-08-16T15:41:11.463998",
     "exception": false,
     "start_time": "2022-08-16T15:41:11.443945",
     "status": "completed"
    },
    "tags": []
   },
   "outputs": [],
   "source": [
    "   \n",
    "def load_dataset():\n",
    "    train_dataset = h5py.File('../input/uthdatasets/train_catvnoncat.h5', \"r\")\n",
    "    train_set_x_orig = np.array(train_dataset[\"train_set_x\"][:]) # your train set features\n",
    "    train_set_y_orig = np.array(train_dataset[\"train_set_y\"][:]) # your train set labels\n",
    "\n",
    "    test_dataset = h5py.File('../input/uthdatasets/test_catvnoncat.h5', \"r\")\n",
    "    test_set_x_orig = np.array(test_dataset[\"test_set_x\"][:]) # your test set features\n",
    "    test_set_y_orig = np.array(test_dataset[\"test_set_y\"][:]) # your test set labels\n",
    "\n",
    "    classes = np.array(test_dataset[\"list_classes\"][:]) # the list of classes\n",
    "    \n",
    "    train_set_y_orig = train_set_y_orig.reshape((1, train_set_y_orig.shape[0]))\n",
    "    test_set_y_orig = test_set_y_orig.reshape((1, test_set_y_orig.shape[0]))\n",
    "    \n",
    "    return train_set_x_orig, train_set_y_orig, test_set_x_orig, test_set_y_orig, classes\n",
    "\n",
    "\n"
   ]
  },
  {
   "cell_type": "markdown",
   "id": "d5818818",
   "metadata": {
    "papermill": {
     "duration": 0.007131,
     "end_time": "2022-08-16T15:41:11.478858",
     "exception": false,
     "start_time": "2022-08-16T15:41:11.471727",
     "status": "completed"
    },
    "tags": []
   },
   "source": [
    "## Overview of the Problem set ##\n",
    "\n",
    "**Problem Statement**: You are given a dataset (\"data.h5\") containing:\n",
    "    - a training set of m_train images labeled as cat (y=1) or non-cat (y=0)\n",
    "    - a test set of m_test images labeled as cat or non-cat\n",
    "    - each image is of shape (num_px, num_px, 3) where 3 is for the 3 channels (RGB). Thus, each image is square (height = num_px) and (width = num_px).\n",
    "\n",
    "We will build a simple image-recognition algorithm that can correctly classify pictures as cat or non-cat.\n"
   ]
  },
  {
   "cell_type": "code",
   "execution_count": 3,
   "id": "8d708a1c",
   "metadata": {
    "execution": {
     "iopub.execute_input": "2022-08-16T15:41:11.495909Z",
     "iopub.status.busy": "2022-08-16T15:41:11.495209Z",
     "iopub.status.idle": "2022-08-16T15:41:11.566800Z",
     "shell.execute_reply": "2022-08-16T15:41:11.565606Z"
    },
    "papermill": {
     "duration": 0.08346,
     "end_time": "2022-08-16T15:41:11.569707",
     "exception": false,
     "start_time": "2022-08-16T15:41:11.486247",
     "status": "completed"
    },
    "tags": []
   },
   "outputs": [],
   "source": [
    "# Loading the data (cat/non-cat)\n",
    "train_set_x_orig, train_set_y, test_set_x_orig, test_set_y, classes = load_dataset()"
   ]
  },
  {
   "cell_type": "code",
   "execution_count": 4,
   "id": "b18f04bd",
   "metadata": {
    "deletable": false,
    "execution": {
     "iopub.execute_input": "2022-08-16T15:41:11.587057Z",
     "iopub.status.busy": "2022-08-16T15:41:11.586367Z",
     "iopub.status.idle": "2022-08-16T15:41:11.595250Z",
     "shell.execute_reply": "2022-08-16T15:41:11.594077Z"
    },
    "nbgrader": {
     "cell_type": "code",
     "checksum": "921fe679a632ec7ec9963069fa405725",
     "grade": false,
     "grade_id": "cell-c4e7e9c1f174eb83",
     "locked": false,
     "schema_version": 3,
     "solution": true,
     "task": false
    },
    "papermill": {
     "duration": 0.021449,
     "end_time": "2022-08-16T15:41:11.598684",
     "exception": false,
     "start_time": "2022-08-16T15:41:11.577235",
     "status": "completed"
    },
    "tags": []
   },
   "outputs": [
    {
     "name": "stdout",
     "output_type": "stream",
     "text": [
      "Number of training examples: m_train = 209\n",
      "Number of testing examples: m_test = 50\n",
      "Height/Width of each image: num_px = 64\n",
      "Each image is of size: (64, 64, 3)\n",
      "train_set_x shape: (209, 64, 64, 3)\n",
      "train_set_y shape: (1, 209)\n",
      "test_set_x shape: (50, 64, 64, 3)\n",
      "test_set_y shape: (1, 50)\n"
     ]
    }
   ],
   "source": [
    "m_train = train_set_x_orig.shape[0]\n",
    "m_test = test_set_x_orig.shape[0]\n",
    "num_px = train_set_x_orig.shape[1]\n",
    "\n",
    "print (\"Number of training examples: m_train = \" + str(m_train))\n",
    "print (\"Number of testing examples: m_test = \" + str(m_test))\n",
    "print (\"Height/Width of each image: num_px = \" + str(num_px))\n",
    "print (\"Each image is of size: (\" + str(num_px) + \", \" + str(num_px) + \", 3)\")\n",
    "print (\"train_set_x shape: \" + str(train_set_x_orig.shape))\n",
    "print (\"train_set_y shape: \" + str(train_set_y.shape))\n",
    "print (\"test_set_x shape: \" + str(test_set_x_orig.shape))\n",
    "print (\"test_set_y shape: \" + str(test_set_y.shape))"
   ]
  },
  {
   "cell_type": "markdown",
   "id": "72638563",
   "metadata": {
    "papermill": {
     "duration": 0.007188,
     "end_time": "2022-08-16T15:41:11.614132",
     "exception": false,
     "start_time": "2022-08-16T15:41:11.606944",
     "status": "completed"
    },
    "tags": []
   },
   "source": [
    "For convenience, we should now reshape images of shape (num_px, num_px, 3) in a numpy-array of shape (num_px $*$ num_px $*$ 3, 1). After this, our training (and test) dataset is a numpy-array where each column represents a flattened image. There should be m_train (respectively m_test) columns."
   ]
  },
  {
   "cell_type": "code",
   "execution_count": 5,
   "id": "16457d90",
   "metadata": {
    "deletable": false,
    "execution": {
     "iopub.execute_input": "2022-08-16T15:41:11.631004Z",
     "iopub.status.busy": "2022-08-16T15:41:11.630272Z",
     "iopub.status.idle": "2022-08-16T15:41:11.639353Z",
     "shell.execute_reply": "2022-08-16T15:41:11.637697Z"
    },
    "nbgrader": {
     "cell_type": "code",
     "checksum": "5a2aa62bdd8c01450111b758ef159aec",
     "grade": false,
     "grade_id": "cell-0f43921062c34e50",
     "locked": false,
     "schema_version": 3,
     "solution": true,
     "task": false
    },
    "papermill": {
     "duration": 0.020412,
     "end_time": "2022-08-16T15:41:11.641907",
     "exception": false,
     "start_time": "2022-08-16T15:41:11.621495",
     "status": "completed"
    },
    "tags": []
   },
   "outputs": [
    {
     "name": "stdout",
     "output_type": "stream",
     "text": [
      "train_set_x_flatten shape: (12288, 209)\n",
      "train_set_y shape: (1, 209)\n",
      "test_set_x_flatten shape: (12288, 50)\n",
      "test_set_y shape: (1, 50)\n"
     ]
    }
   ],
   "source": [
    "train_set_x_flatten = train_set_x_orig.reshape(train_set_x_orig.shape[0], -1).T\n",
    "test_set_x_flatten = test_set_x_orig.reshape(test_set_x_orig.shape[0], -1).T\n",
    "\n",
    "assert np.alltrue(train_set_x_flatten[0:10, 1] == [196, 192, 190, 193, 186, 182, 188, 179, 174, 213]), \"Wrong solution. Use (X.shape[0], -1).T.\"\n",
    "assert np.alltrue(test_set_x_flatten[0:10, 1] == [115, 110, 111, 137, 129, 129, 155, 146, 145, 159]), \"Wrong solution. Use (X.shape[0], -1).T.\"\n",
    "\n",
    "print (\"train_set_x_flatten shape: \" + str(train_set_x_flatten.shape))\n",
    "print (\"train_set_y shape: \" + str(train_set_y.shape))\n",
    "print (\"test_set_x_flatten shape: \" + str(test_set_x_flatten.shape))\n",
    "print (\"test_set_y shape: \" + str(test_set_y.shape))"
   ]
  },
  {
   "cell_type": "markdown",
   "id": "47868ef9",
   "metadata": {
    "papermill": {
     "duration": 0.007135,
     "end_time": "2022-08-16T15:41:11.657245",
     "exception": false,
     "start_time": "2022-08-16T15:41:11.650110",
     "status": "completed"
    },
    "tags": []
   },
   "source": [
    "To represent color images, the red, green and blue channels (RGB) must be specified for each pixel, and so the pixel value is actually a vector of three numbers ranging from 0 to 255.\n",
    "\n",
    "One common preprocessing step in machine learning is to center and standardize your dataset, meaning that you substract the mean of the whole numpy array from each example, and then divide each example by the standard deviation of the whole numpy array. But for picture datasets, it is simpler and more convenient and works almost as well to just divide every row of the dataset by 255 (the maximum value of a pixel channel).\n",
    "\n",
    "<!-- During the training of your model, you're going to multiply weights and add biases to some initial inputs in order to observe neuron activations. Then you backpropogate with the gradients to train the model. But, it is extremely important for each feature to have a similar range such that our gradients don't explode. You will see that more in detail later in the lectures. !--> \n",
    "\n",
    "Let's standardize our dataset."
   ]
  },
  {
   "cell_type": "code",
   "execution_count": 6,
   "id": "1dee4da7",
   "metadata": {
    "execution": {
     "iopub.execute_input": "2022-08-16T15:41:11.674198Z",
     "iopub.status.busy": "2022-08-16T15:41:11.673478Z",
     "iopub.status.idle": "2022-08-16T15:41:11.691459Z",
     "shell.execute_reply": "2022-08-16T15:41:11.689866Z"
    },
    "papermill": {
     "duration": 0.029641,
     "end_time": "2022-08-16T15:41:11.694275",
     "exception": false,
     "start_time": "2022-08-16T15:41:11.664634",
     "status": "completed"
    },
    "tags": []
   },
   "outputs": [],
   "source": [
    "train_set_x = train_set_x_flatten / 255.\n",
    "test_set_x = test_set_x_flatten / 255."
   ]
  },
  {
   "cell_type": "markdown",
   "id": "074d2458",
   "metadata": {
    "papermill": {
     "duration": 0.007214,
     "end_time": "2022-08-16T15:41:11.709371",
     "exception": false,
     "start_time": "2022-08-16T15:41:11.702157",
     "status": "completed"
    },
    "tags": []
   },
   "source": [
    "###  Sigmoid function"
   ]
  },
  {
   "cell_type": "code",
   "execution_count": 7,
   "id": "30549bbe",
   "metadata": {
    "deletable": false,
    "execution": {
     "iopub.execute_input": "2022-08-16T15:41:11.726151Z",
     "iopub.status.busy": "2022-08-16T15:41:11.725728Z",
     "iopub.status.idle": "2022-08-16T15:41:11.731025Z",
     "shell.execute_reply": "2022-08-16T15:41:11.729702Z"
    },
    "nbgrader": {
     "cell_type": "code",
     "checksum": "239ab1cf1028b721fd14f31b8103c40d",
     "grade": false,
     "grade_id": "cell-520521c430352f3b",
     "locked": false,
     "schema_version": 3,
     "solution": true,
     "task": false
    },
    "papermill": {
     "duration": 0.016354,
     "end_time": "2022-08-16T15:41:11.733174",
     "exception": false,
     "start_time": "2022-08-16T15:41:11.716820",
     "status": "completed"
    },
    "tags": []
   },
   "outputs": [],
   "source": [
    "def sigmoid(z):\n",
    "    s = 1/(1+np.exp(-z))\n",
    "    return s"
   ]
  },
  {
   "cell_type": "markdown",
   "id": "49e59d9a",
   "metadata": {
    "papermill": {
     "duration": 0.007498,
     "end_time": "2022-08-16T15:41:11.748327",
     "exception": false,
     "start_time": "2022-08-16T15:41:11.740829",
     "status": "completed"
    },
    "tags": []
   },
   "source": [
    "### Initializing parameters"
   ]
  },
  {
   "cell_type": "code",
   "execution_count": 8,
   "id": "2cdf8da2",
   "metadata": {
    "deletable": false,
    "execution": {
     "iopub.execute_input": "2022-08-16T15:41:11.765120Z",
     "iopub.status.busy": "2022-08-16T15:41:11.764713Z",
     "iopub.status.idle": "2022-08-16T15:41:11.770040Z",
     "shell.execute_reply": "2022-08-16T15:41:11.768817Z"
    },
    "nbgrader": {
     "cell_type": "code",
     "checksum": "c4a37e375a85ddab7274a33abf46bb7c",
     "grade": false,
     "grade_id": "cell-befa9335e479864e",
     "locked": false,
     "schema_version": 3,
     "solution": true,
     "task": false
    },
    "papermill": {
     "duration": 0.016372,
     "end_time": "2022-08-16T15:41:11.772135",
     "exception": false,
     "start_time": "2022-08-16T15:41:11.755763",
     "status": "completed"
    },
    "tags": []
   },
   "outputs": [],
   "source": [
    "def initialize_with_zeros(dim):\n",
    "    w = np.zeros((dim,1))\n",
    "    b = 0.00\n",
    "    return w, b"
   ]
  },
  {
   "cell_type": "markdown",
   "id": "57191329",
   "metadata": {
    "papermill": {
     "duration": 0.007061,
     "end_time": "2022-08-16T15:41:11.786708",
     "exception": false,
     "start_time": "2022-08-16T15:41:11.779647",
     "status": "completed"
    },
    "tags": []
   },
   "source": [
    "\n",
    "### Forward and Backward propagation\n",
    "\n",
    "Now that our parameters are initialized, we can do the \"forward\" and \"backward\" propagation steps for learning the parameters."
   ]
  },
  {
   "cell_type": "code",
   "execution_count": 9,
   "id": "39cd052c",
   "metadata": {
    "deletable": false,
    "execution": {
     "iopub.execute_input": "2022-08-16T15:41:11.803749Z",
     "iopub.status.busy": "2022-08-16T15:41:11.802867Z",
     "iopub.status.idle": "2022-08-16T15:41:11.810377Z",
     "shell.execute_reply": "2022-08-16T15:41:11.809482Z"
    },
    "nbgrader": {
     "cell_type": "code",
     "checksum": "2ff9081e51809aef5e93bc1c21dc9b7b",
     "grade": false,
     "grade_id": "cell-11af17e28077b3d3",
     "locked": false,
     "schema_version": 3,
     "solution": true,
     "task": false
    },
    "papermill": {
     "duration": 0.01819,
     "end_time": "2022-08-16T15:41:11.812390",
     "exception": false,
     "start_time": "2022-08-16T15:41:11.794200",
     "status": "completed"
    },
    "tags": []
   },
   "outputs": [],
   "source": [
    "def propagate(w, b, X, Y):\n",
    "    m = X.shape[1]\n",
    "    A = sigmoid(np.dot(w.T,X)+b)\n",
    "    cost = np.sum(Y*np.log(A)+ (1-Y)*np.log(1-A))*(-1/m)\n",
    "    dw = (1/m)*np.dot(X,(A-Y).T)\n",
    "    db = (1/m)*(np.sum(A-Y))\n",
    "    cost = np.squeeze(np.array(cost))\n",
    "    \n",
    "    grads = {\"dw\": dw,\n",
    "             \"db\": db}\n",
    "    \n",
    "    return grads, cost"
   ]
  },
  {
   "cell_type": "markdown",
   "id": "fc979391",
   "metadata": {
    "papermill": {
     "duration": 0.007107,
     "end_time": "2022-08-16T15:41:11.827326",
     "exception": false,
     "start_time": "2022-08-16T15:41:11.820219",
     "status": "completed"
    },
    "tags": []
   },
   "source": [
    "\n",
    "### Optimization\n",
    "- We have initialized your parameters.\n",
    "- We are also able to compute a cost function and its gradient.\n",
    "- Now, We want to update the parameters using gradient descent."
   ]
  },
  {
   "cell_type": "code",
   "execution_count": 10,
   "id": "3057cb7d",
   "metadata": {
    "deletable": false,
    "execution": {
     "iopub.execute_input": "2022-08-16T15:41:11.844367Z",
     "iopub.status.busy": "2022-08-16T15:41:11.843606Z",
     "iopub.status.idle": "2022-08-16T15:41:11.852262Z",
     "shell.execute_reply": "2022-08-16T15:41:11.851508Z"
    },
    "nbgrader": {
     "cell_type": "code",
     "checksum": "49d9b4c1a780bf141c8eb48e06cbb494",
     "grade": false,
     "grade_id": "cell-616d6883e807448d",
     "locked": false,
     "schema_version": 3,
     "solution": true,
     "task": false
    },
    "papermill": {
     "duration": 0.019822,
     "end_time": "2022-08-16T15:41:11.854587",
     "exception": false,
     "start_time": "2022-08-16T15:41:11.834765",
     "status": "completed"
    },
    "tags": []
   },
   "outputs": [],
   "source": [
    "def optimize(w, b, X, Y, num_iterations=100, learning_rate=0.009, print_cost=False):\n",
    "    \"\"\"\n",
    "    This function optimizes w and b by running a gradient descent algorithm\n",
    "    \n",
    "    Arguments:\n",
    "    w -- weights, a numpy array of size (num_px * num_px * 3, 1)\n",
    "    b -- bias, a scalar\n",
    "    X -- data of shape (num_px * num_px * 3, number of examples)\n",
    "    Y -- true \"label\" vector (containing 0 if non-cat, 1 if cat), of shape (1, number of examples)\n",
    "    num_iterations -- number of iterations of the optimization loop\n",
    "    learning_rate -- learning rate of the gradient descent update rule\n",
    "    print_cost -- True to print the loss every 100 steps\n",
    "    \n",
    "    Returns:\n",
    "    params -- dictionary containing the weights w and bias b\n",
    "    grads -- dictionary containing the gradients of the weights and bias with respect to the cost function\n",
    "    costs -- list of all the costs computed during the optimization, this will be used to plot the learning curve.\n",
    "    \n",
    "    Tips:\n",
    "    You basically need to write down two steps and iterate through them:\n",
    "        1) Calculate the cost and the gradient for the current parameters. Use propagate().\n",
    "        2) Update the parameters using gradient descent rule for w and b.\n",
    "    \"\"\"\n",
    "    \n",
    "    w = copy.deepcopy(w)\n",
    "    b = copy.deepcopy(b)\n",
    "    \n",
    "    costs = []\n",
    "    \n",
    "    for i in range(num_iterations):\n",
    "        grads, cost = propagate(w, b, X, Y)\n",
    "\n",
    "        dw = grads[\"dw\"]\n",
    "        db = grads[\"db\"]\n",
    "\n",
    "        w = w - learning_rate*dw\n",
    "        b = b - learning_rate*db\n",
    "\n",
    "        if i % 100 == 0:\n",
    "            costs.append(cost)\n",
    "        \n",
    "            if print_cost:\n",
    "                print (\"Cost after iteration %i: %f\" %(i, cost))\n",
    "    \n",
    "    params = {\"w\": w,\n",
    "              \"b\": b}\n",
    "    \n",
    "    grads = {\"dw\": dw,\n",
    "             \"db\": db}\n",
    "    \n",
    "    return params, grads, costs"
   ]
  },
  {
   "cell_type": "markdown",
   "id": "e9832381",
   "metadata": {
    "papermill": {
     "duration": 0.007096,
     "end_time": "2022-08-16T15:41:11.869285",
     "exception": false,
     "start_time": "2022-08-16T15:41:11.862189",
     "status": "completed"
    },
    "tags": []
   },
   "source": [
    "\n",
    "### Predict\n",
    "The previous function will output the learned w and b. We are able to use w and b to predict the labels for a dataset X.\n"
   ]
  },
  {
   "cell_type": "code",
   "execution_count": 11,
   "id": "dbd91ef8",
   "metadata": {
    "deletable": false,
    "execution": {
     "iopub.execute_input": "2022-08-16T15:41:11.886151Z",
     "iopub.status.busy": "2022-08-16T15:41:11.885159Z",
     "iopub.status.idle": "2022-08-16T15:41:11.892040Z",
     "shell.execute_reply": "2022-08-16T15:41:11.891271Z"
    },
    "nbgrader": {
     "cell_type": "code",
     "checksum": "e56419b97ebf382a8f93ac2873988887",
     "grade": false,
     "grade_id": "cell-d6f924f49c51dc2f",
     "locked": false,
     "schema_version": 3,
     "solution": true,
     "task": false
    },
    "papermill": {
     "duration": 0.01759,
     "end_time": "2022-08-16T15:41:11.894153",
     "exception": false,
     "start_time": "2022-08-16T15:41:11.876563",
     "status": "completed"
    },
    "tags": []
   },
   "outputs": [],
   "source": [
    "def predict(w, b, X):\n",
    "\n",
    "    m = X.shape[1]\n",
    "    Y_prediction = np.zeros((1, m))\n",
    "    w = w.reshape(X.shape[0], 1)\n",
    "    \n",
    "    A = sigmoid(np.dot(w.T,X)+b)\n",
    "    \n",
    "    for i in range(A.shape[1]):\n",
    "        if A[0,i] > 0.5:\n",
    "            Y_prediction[0,i] = 1\n",
    "        else:\n",
    "            Y_prediction[0,i] = 0    \n",
    "    return Y_prediction"
   ]
  },
  {
   "cell_type": "markdown",
   "id": "cdb5775d",
   "metadata": {
    "papermill": {
     "duration": 0.007077,
     "end_time": "2022-08-16T15:41:11.908846",
     "exception": false,
     "start_time": "2022-08-16T15:41:11.901769",
     "status": "completed"
    },
    "tags": []
   },
   "source": [
    "\n",
    "## Merge all functions into a model ##\n",
    "\n",
    "We will now see how the overall model is structured by putting together all the building blocks (functions implemented in the previous parts) together, in the right order."
   ]
  },
  {
   "cell_type": "code",
   "execution_count": 12,
   "id": "3634aa59",
   "metadata": {
    "deletable": false,
    "execution": {
     "iopub.execute_input": "2022-08-16T15:41:11.925545Z",
     "iopub.status.busy": "2022-08-16T15:41:11.924758Z",
     "iopub.status.idle": "2022-08-16T15:41:11.933750Z",
     "shell.execute_reply": "2022-08-16T15:41:11.932441Z"
    },
    "nbgrader": {
     "cell_type": "code",
     "checksum": "f23cca6cfb750397e5d2ac44977e2c2a",
     "grade": false,
     "grade_id": "cell-6dcba5967c4cbf8c",
     "locked": false,
     "schema_version": 3,
     "solution": true,
     "task": false
    },
    "papermill": {
     "duration": 0.020132,
     "end_time": "2022-08-16T15:41:11.936316",
     "exception": false,
     "start_time": "2022-08-16T15:41:11.916184",
     "status": "completed"
    },
    "tags": []
   },
   "outputs": [],
   "source": [
    "def model(X_train, Y_train, X_test, Y_test, num_iterations=2000, learning_rate=0.5, print_cost=False):\n",
    "    w, b = initialize_with_zeros(X_train.shape[0])\n",
    "    params, grads, costs = optimize(w, b, X_train, Y_train, num_iterations, learning_rate, print_cost)\n",
    "    w = params[\"w\"]\n",
    "    b = params[\"b\"]\n",
    "    Y_prediction_train = predict(w,b,X_train)\n",
    "    Y_prediction_test = predict(w,b,X_test)\n",
    "\n",
    "    if print_cost:\n",
    "        print(\"train accuracy: {} %\".format(100 - np.mean(np.abs(Y_prediction_train - Y_train)) * 100))\n",
    "        print(\"test accuracy: {} %\".format(100 - np.mean(np.abs(Y_prediction_test - Y_test)) * 100))\n",
    "\n",
    "    \n",
    "    d = {\"costs\": costs,\n",
    "         \"Y_prediction_test\": Y_prediction_test, \n",
    "         \"Y_prediction_train\" : Y_prediction_train, \n",
    "         \"w\" : w, \n",
    "         \"b\" : b,\n",
    "         \"learning_rate\" : learning_rate,\n",
    "         \"num_iterations\": num_iterations}\n",
    "    \n",
    "    return d"
   ]
  },
  {
   "cell_type": "code",
   "execution_count": 13,
   "id": "0fda7178",
   "metadata": {
    "execution": {
     "iopub.execute_input": "2022-08-16T15:41:11.953580Z",
     "iopub.status.busy": "2022-08-16T15:41:11.953172Z",
     "iopub.status.idle": "2022-08-16T15:41:15.094198Z",
     "shell.execute_reply": "2022-08-16T15:41:15.092607Z"
    },
    "papermill": {
     "duration": 3.156417,
     "end_time": "2022-08-16T15:41:15.100672",
     "exception": false,
     "start_time": "2022-08-16T15:41:11.944255",
     "status": "completed"
    },
    "tags": []
   },
   "outputs": [
    {
     "name": "stdout",
     "output_type": "stream",
     "text": [
      "Cost after iteration 0: 0.693147\n",
      "Cost after iteration 100: 0.584508\n",
      "Cost after iteration 200: 0.466949\n",
      "Cost after iteration 300: 0.376007\n",
      "Cost after iteration 400: 0.331463\n",
      "Cost after iteration 500: 0.303273\n",
      "Cost after iteration 600: 0.279880\n",
      "Cost after iteration 700: 0.260042\n",
      "Cost after iteration 800: 0.242941\n",
      "Cost after iteration 900: 0.228004\n",
      "Cost after iteration 1000: 0.214820\n",
      "Cost after iteration 1100: 0.203078\n",
      "Cost after iteration 1200: 0.192544\n",
      "Cost after iteration 1300: 0.183033\n",
      "Cost after iteration 1400: 0.174399\n",
      "Cost after iteration 1500: 0.166521\n",
      "Cost after iteration 1600: 0.159305\n",
      "Cost after iteration 1700: 0.152667\n",
      "Cost after iteration 1800: 0.146542\n",
      "Cost after iteration 1900: 0.140872\n",
      "train accuracy: 99.04306220095694 %\n",
      "test accuracy: 70.0 %\n"
     ]
    }
   ],
   "source": [
    "logistic_regression_model = model(train_set_x, train_set_y, test_set_x, test_set_y, num_iterations=2000, learning_rate=0.005, print_cost=True)"
   ]
  },
  {
   "cell_type": "markdown",
   "id": "a54e1475",
   "metadata": {
    "deletable": false,
    "nbgrader": {
     "cell_type": "code",
     "checksum": "e3ea12608f15798d542a07c1bc9f561b",
     "grade": true,
     "grade_id": "cell-90b1fb967269548c",
     "locked": true,
     "points": 10,
     "schema_version": 3,
     "solution": false,
     "task": false
    },
    "papermill": {
     "duration": 0.020531,
     "end_time": "2022-08-16T15:41:15.142220",
     "exception": false,
     "start_time": "2022-08-16T15:41:15.121689",
     "status": "completed"
    },
    "tags": []
   },
   "source": []
  },
  {
   "cell_type": "markdown",
   "id": "cf6100ab",
   "metadata": {
    "deletable": false,
    "nbgrader": {
     "cell_type": "code",
     "checksum": "b468bc5ddf6ecc5c7dbcb9a02cfe0216",
     "grade": true,
     "grade_id": "cell-4170e070f3cde17e",
     "locked": true,
     "points": 10,
     "schema_version": 3,
     "solution": false,
     "task": false
    },
    "papermill": {
     "duration": 0.020058,
     "end_time": "2022-08-16T15:41:15.182773",
     "exception": false,
     "start_time": "2022-08-16T15:41:15.162715",
     "status": "completed"
    },
    "tags": []
   },
   "source": []
  },
  {
   "cell_type": "markdown",
   "id": "f56c720f",
   "metadata": {
    "deletable": false,
    "nbgrader": {
     "cell_type": "code",
     "checksum": "b65a5c90f86a990614156e41f64b4678",
     "grade": true,
     "grade_id": "cell-8e3d43fbb82a8901",
     "locked": true,
     "points": 10,
     "schema_version": 3,
     "solution": false,
     "task": false
    },
    "papermill": {
     "duration": 0.012584,
     "end_time": "2022-08-16T15:41:15.215949",
     "exception": false,
     "start_time": "2022-08-16T15:41:15.203365",
     "status": "completed"
    },
    "tags": []
   },
   "source": []
  },
  {
   "cell_type": "code",
   "execution_count": null,
   "id": "bb84401a",
   "metadata": {
    "deletable": false,
    "nbgrader": {
     "cell_type": "code",
     "checksum": "b8a1a4b1ff8d70ac609d721490b4d826",
     "grade": true,
     "grade_id": "cell-d1594d75b61dd554",
     "locked": true,
     "points": 10,
     "schema_version": 3,
     "solution": false,
     "task": false
    },
    "papermill": {
     "duration": 0.007966,
     "end_time": "2022-08-16T15:41:15.232211",
     "exception": false,
     "start_time": "2022-08-16T15:41:15.224245",
     "status": "completed"
    },
    "tags": []
   },
   "outputs": [],
   "source": []
  },
  {
   "cell_type": "code",
   "execution_count": null,
   "id": "e8477d31",
   "metadata": {
    "deletable": false,
    "nbgrader": {
     "cell_type": "code",
     "checksum": "a4c13b0eafa46ca94de21b41faea8c58",
     "grade": true,
     "grade_id": "cell-a3b6699f145f3a3f",
     "locked": true,
     "points": 10,
     "schema_version": 3,
     "solution": false,
     "task": false
    },
    "papermill": {
     "duration": 0.007923,
     "end_time": "2022-08-16T15:41:15.248359",
     "exception": false,
     "start_time": "2022-08-16T15:41:15.240436",
     "status": "completed"
    },
    "tags": []
   },
   "outputs": [],
   "source": []
  },
  {
   "cell_type": "code",
   "execution_count": null,
   "id": "cfea5e31",
   "metadata": {
    "deletable": false,
    "nbgrader": {
     "cell_type": "code",
     "checksum": "0483e6820669111a9c5914d8b24bc315",
     "grade": true,
     "grade_id": "cell-30ea3151cab9c491",
     "locked": true,
     "points": 10,
     "schema_version": 3,
     "solution": false,
     "task": false
    },
    "papermill": {
     "duration": 0.007777,
     "end_time": "2022-08-16T15:41:15.264331",
     "exception": false,
     "start_time": "2022-08-16T15:41:15.256554",
     "status": "completed"
    },
    "tags": []
   },
   "outputs": [],
   "source": []
  }
 ],
 "metadata": {
  "kernelspec": {
   "display_name": "Python 3",
   "language": "python",
   "name": "python3"
  },
  "language_info": {
   "codemirror_mode": {
    "name": "ipython",
    "version": 3
   },
   "file_extension": ".py",
   "mimetype": "text/x-python",
   "name": "python",
   "nbconvert_exporter": "python",
   "pygments_lexer": "ipython3",
   "version": "3.7.12"
  },
  "papermill": {
   "default_parameters": {},
   "duration": 13.873413,
   "end_time": "2022-08-16T15:41:15.994601",
   "environment_variables": {},
   "exception": null,
   "input_path": "__notebook__.ipynb",
   "output_path": "__notebook__.ipynb",
   "parameters": {},
   "start_time": "2022-08-16T15:41:02.121188",
   "version": "2.3.4"
  }
 },
 "nbformat": 4,
 "nbformat_minor": 5
}
